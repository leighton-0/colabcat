{
  "nbformat": 4,
  "nbformat_minor": 0,
  "metadata": {
    "colab": {
      "name": "colabcat.ipynb",
      "provenance": [],
      "collapsed_sections": []
    },
    "kernelspec": {
      "name": "python3",
      "display_name": "Python 3"
    },
    "accelerator": "GPU"
  },
  "cells": [
    {
      "cell_type": "code",
      "metadata": {
        "id": "qx7jld_zTB1E",
        "colab_type": "code",
        "outputId": "85ded118-b742-4d4b-c509-b099ca2d9b74",
        "colab": {
          "base_uri": "https://localhost:8080/",
          "height": 306
        }
      },
      "source": [
        "# Check GPU Specs\n",
        "!nvidia-smi"
      ],
      "execution_count": 1,
      "outputs": [
        {
          "output_type": "stream",
          "text": [
            "Tue Jun  9 13:12:30 2020       \n",
            "+-----------------------------------------------------------------------------+\n",
            "| NVIDIA-SMI 440.82       Driver Version: 418.67       CUDA Version: 10.1     |\n",
            "|-------------------------------+----------------------+----------------------+\n",
            "| GPU  Name        Persistence-M| Bus-Id        Disp.A | Volatile Uncorr. ECC |\n",
            "| Fan  Temp  Perf  Pwr:Usage/Cap|         Memory-Usage | GPU-Util  Compute M. |\n",
            "|===============================+======================+======================|\n",
            "|   0  Tesla K80           Off  | 00000000:00:04.0 Off |                    0 |\n",
            "| N/A   49C    P8    31W / 149W |      0MiB / 11441MiB |      0%      Default |\n",
            "+-------------------------------+----------------------+----------------------+\n",
            "                                                                               \n",
            "+-----------------------------------------------------------------------------+\n",
            "| Processes:                                                       GPU Memory |\n",
            "|  GPU       PID   Type   Process name                             Usage      |\n",
            "|=============================================================================|\n",
            "|  No running processes found                                                 |\n",
            "+-----------------------------------------------------------------------------+\n"
          ],
          "name": "stdout"
        }
      ]
    },
    {
      "cell_type": "code",
      "metadata": {
        "id": "6FHgYTj3Xb4d",
        "colab_type": "code",
        "outputId": "f142879f-8f8d-4e1d-ede3-b1f6e9319d3f",
        "colab": {
          "base_uri": "https://localhost:8080/",
          "height": 156
        }
      },
      "source": [
        "# Get hashes to crack\n",
        "# Make a directory called 'dothashcat' in your Google Drive before this\n",
        "# with the 'hashes' subdirectory for storing hashes\n",
        "from google.colab import drive\n",
        "\n",
        "# This will ask you to go to a link and get an authorization code\n",
        "# to let the .hashcat folder get synced to your Google Drive\n",
        "drive.mount('/content/drive')\n",
        "\n",
        "# Make a symbolic link between Google Drive\n",
        "# and the local .hashcat directory\n",
        "!ls /content/drive/My\\ Drive/dothashcat\n",
        "!ln -s /content/drive/My\\ Drive/dothashcat /root/.hashcat"
      ],
      "execution_count": 2,
      "outputs": [
        {
          "output_type": "stream",
          "text": [
            "Go to this URL in a browser: https://accounts.google.com/o/oauth2/auth?client_id=947318989803-6bn6qk8qdgf4n4g3pfee6491hc0brc4i.apps.googleusercontent.com&redirect_uri=urn%3aietf%3awg%3aoauth%3a2.0%3aoob&response_type=code&scope=email%20https%3a%2f%2fwww.googleapis.com%2fauth%2fdocs.test%20https%3a%2f%2fwww.googleapis.com%2fauth%2fdrive%20https%3a%2f%2fwww.googleapis.com%2fauth%2fdrive.photos.readonly%20https%3a%2f%2fwww.googleapis.com%2fauth%2fpeopleapi.readonly\n",
            "\n",
            "Enter your authorization code:\n",
            "··········\n",
            "Mounted at /content/drive\n",
            "dothashcat\t   hashcat.potfile  kernels    sessions\n",
            "hashcat.dictstat2  hashes\t    plaintext\n"
          ],
          "name": "stdout"
        }
      ]
    },
    {
      "cell_type": "code",
      "metadata": {
        "id": "Q5zVWgXVTc9X",
        "colab_type": "code",
        "outputId": "b4bd5c05-e586-48f4-ca14-9aa1586de7f2",
        "cellView": "both",
        "colab": {
          "base_uri": "https://localhost:8080/",
          "height": 1000
        }
      },
      "source": [
        "# Clone, build and install Hashcat\n",
        "!apt install cmake build-essential -y\n",
        "!apt install checkinstall git -y\n",
        "!git clone https://github.com/hashcat/hashcat.git\n",
        "!cd hashcat && git submodule update --init && make && make install"
      ],
      "execution_count": 3,
      "outputs": [
        {
          "output_type": "stream",
          "text": [
            "Reading package lists... Done\n",
            "Building dependency tree       \n",
            "Reading state information... Done\n",
            "build-essential is already the newest version (12.4ubuntu1).\n",
            "cmake is already the newest version (3.10.2-1ubuntu2.18.04.1).\n",
            "0 upgraded, 0 newly installed, 0 to remove and 32 not upgraded.\n",
            "Reading package lists... Done\n",
            "Building dependency tree       \n",
            "Reading state information... Done\n",
            "git is already the newest version (1:2.17.1-1ubuntu0.7).\n",
            "The following additional packages will be installed:\n",
            "  file libmagic-mgc libmagic1\n",
            "Suggested packages:\n",
            "  gettext\n",
            "The following NEW packages will be installed:\n",
            "  checkinstall file libmagic-mgc libmagic1\n",
            "0 upgraded, 4 newly installed, 0 to remove and 32 not upgraded.\n",
            "Need to get 372 kB of archives.\n",
            "After this operation, 5,735 kB of additional disk space will be used.\n",
            "Get:1 http://archive.ubuntu.com/ubuntu bionic-updates/main amd64 libmagic-mgc amd64 1:5.32-2ubuntu0.4 [184 kB]\n",
            "Get:2 http://archive.ubuntu.com/ubuntu bionic-updates/main amd64 libmagic1 amd64 1:5.32-2ubuntu0.4 [68.6 kB]\n",
            "Get:3 http://archive.ubuntu.com/ubuntu bionic-updates/main amd64 file amd64 1:5.32-2ubuntu0.4 [22.1 kB]\n",
            "Get:4 http://archive.ubuntu.com/ubuntu bionic/universe amd64 checkinstall amd64 1.6.2-4ubuntu2 [97.1 kB]\n",
            "Fetched 372 kB in 0s (3,800 kB/s)\n",
            "remote: Counting objects: 100% (2/2), done.\u001b[K\n",
            "remote: Compressing objects: 100% (2/2), done.\u001b[K\n",
            "remote: Total 62940 (delta 0), reused 0 (delta 0), pack-reused 62938\u001b[K\n",
            "Receiving objects: 100% (62940/62940), 47.85 MiB | 17.43 MiB/s, done.\n",
            "Resolving deltas: 100% (53630/53630), done.\n",
            "gcc -c -W -Wall -Wextra -O2 -pipe -std=gnu99 -Iinclude/ -IOpenCL/ -Ideps/LZMA-SDK/C -Ideps/zlib -Ideps/OpenCL-Headers -DWITH_BRAIN -Ideps/xxHash -DWITH_CUBIN -DWITH_HWMON -Wno-implicit-fallthrough -Wno-implicit-function-declaration -Wno-unused-parameter -DIOAPI_NO_64 deps/zlib/contrib/minizip/unzip.c -o obj/contrib/minizip/unzip.NATIVE.o -fpic\n",
            "gcc -c -W -Wall -Wextra -O2 -pipe -std=gnu99 -Iinclude/ -IOpenCL/ -Ideps/LZMA-SDK/C -Ideps/zlib -Ideps/OpenCL-Headers -DWITH_BRAIN -Ideps/xxHash -DWITH_CUBIN -DWITH_HWMON -Wno-implicit-fallthrough -Wno-implicit-function-declaration -Wno-unused-parameter -DIOAPI_NO_64 deps/zlib/contrib/minizip/ioapi.c -o obj/contrib/minizip/ioapi.NATIVE.o -fpic\n",
            "gcc -c -W -Wall -Wextra -O2 -pipe -std=gnu99 -Iinclude/ -IOpenCL/ -Ideps/LZMA-SDK/C -Ideps/zlib -Ideps/OpenCL-Headers -DWITH_BRAIN -Ideps/xxHash -DWITH_CUBIN -DWITH_HWMON deps/xxHash/xxhash.c -o obj/xxhash.NATIVE.o -fpic\n",
            "ar rcs obj/combined.NATIVE.a obj/affinity.NATIVE.o obj/autotune.NATIVE.o obj/backend.NATIVE.o obj/benchmark.NATIVE.o obj/bitmap.NATIVE.o obj/bitops.NATIVE.o obj/combinator.NATIVE.o obj/common.NATIVE.o obj/convert.NATIVE.o obj/cpt.NATIVE.o obj/cpu_crc32.NATIVE.o obj/debugfile.NATIVE.o obj/dictstat.NATIVE.o obj/dispatch.NATIVE.o obj/dynloader.NATIVE.o obj/event.NATIVE.o obj/ext_ADL.NATIVE.o obj/ext_cuda.NATIVE.o obj/ext_nvapi.NATIVE.o obj/ext_nvml.NATIVE.o obj/ext_nvrtc.NATIVE.o obj/ext_OpenCL.NATIVE.o obj/ext_sysfs.NATIVE.o obj/ext_lzma.NATIVE.o obj/filehandling.NATIVE.o obj/folder.NATIVE.o obj/hashcat.NATIVE.o obj/hashes.NATIVE.o obj/hlfmt.NATIVE.o obj/hwmon.NATIVE.o obj/induct.NATIVE.o obj/interface.NATIVE.o obj/keyboard_layout.NATIVE.o obj/locking.NATIVE.o obj/logfile.NATIVE.o obj/loopback.NATIVE.o obj/memory.NATIVE.o obj/monitor.NATIVE.o obj/mpsp.NATIVE.o obj/outfile_check.NATIVE.o obj/outfile.NATIVE.o obj/pidfile.NATIVE.o obj/potfile.NATIVE.o obj/restore.NATIVE.o obj/rp.NATIVE.o obj/rp_cpu.NATIVE.o obj/selftest.NATIVE.o obj/slow_candidates.NATIVE.o obj/shared.NATIVE.o obj/status.NATIVE.o obj/stdout.NATIVE.o obj/straight.NATIVE.o obj/terminal.NATIVE.o obj/thread.NATIVE.o obj/timer.NATIVE.o obj/tuningdb.NATIVE.o obj/usage.NATIVE.o obj/user_options.NATIVE.o obj/wordlist.NATIVE.o obj/emu_general.NATIVE.o obj/emu_inc_common.NATIVE.o obj/emu_inc_platform.NATIVE.o obj/emu_inc_scalar.NATIVE.o obj/emu_inc_simd.NATIVE.o obj/emu_inc_rp.NATIVE.o obj/emu_inc_rp_optimized.NATIVE.o obj/emu_inc_truecrypt_crc32.NATIVE.o obj/emu_inc_truecrypt_keyfile.NATIVE.o obj/emu_inc_truecrypt_xts.NATIVE.o obj/emu_inc_veracrypt_xts.NATIVE.o obj/emu_inc_hash_md4.NATIVE.o obj/emu_inc_hash_md5.NATIVE.o obj/emu_inc_hash_ripemd160.NATIVE.o obj/emu_inc_hash_sha1.NATIVE.o obj/emu_inc_hash_sha256.NATIVE.o obj/emu_inc_hash_sha384.NATIVE.o obj/emu_inc_hash_sha512.NATIVE.o obj/emu_inc_hash_streebog256.NATIVE.o obj/emu_inc_hash_streebog512.NATIVE.o obj/emu_inc_ecc_secp256k1.NATIVE.o obj/emu_inc_cipher_aes.NATIVE.o obj/emu_inc_cipher_camellia.NATIVE.o obj/emu_inc_cipher_des.NATIVE.o obj/emu_inc_cipher_kuznyechik.NATIVE.o obj/emu_inc_cipher_serpent.NATIVE.o obj/emu_inc_cipher_twofish.NATIVE.o obj/brain.NATIVE.o obj/Alloc.NATIVE.o obj/Lzma2Dec.NATIVE.o obj/LzmaDec.NATIVE.o obj/adler32.NATIVE.o obj/crc32.NATIVE.o obj/deflate.NATIVE.o obj/inflate.NATIVE.o obj/inffast.NATIVE.o obj/inftrees.NATIVE.o obj/trees.NATIVE.o obj/gzread.NATIVE.o obj/gzwrite.NATIVE.o obj/gzclose.NATIVE.o obj/zutil.NATIVE.o obj/gzlib.NATIVE.o obj/contrib/minizip/unzip.NATIVE.o obj/contrib/minizip/ioapi.NATIVE.o obj/xxhash.NATIVE.o\n",
            "gcc    -W -Wall -Wextra -O2 -pipe -std=gnu99 -Iinclude/ -IOpenCL/ -Ideps/LZMA-SDK/C -Ideps/zlib -Ideps/OpenCL-Headers -DWITH_BRAIN -Ideps/xxHash -DWITH_CUBIN -DWITH_HWMON src/main.c obj/combined.NATIVE.a -o hashcat                     -s -lpthread -ldl -lrt -lm -DCOMPTIME=1591708425 -DVERSION_TAG=\\\"v5.1.0-1846-gf92df252\\\" -DINSTALL_FOLDER=\\\"/usr/local/bin\\\" -DSHARED_FOLDER=\\\"/usr/local/share/hashcat\\\" -DDOCUMENT_FOLDER=\\\"/usr/local/share/doc/hashcat\\\"\n",
            "gcc    -W -Wall -Wextra -O2 -pipe -std=gnu99 -Iinclude/ -IOpenCL/ -Ideps/LZMA-SDK/C -Ideps/zlib -Ideps/OpenCL-Headers -DWITH_BRAIN -Ideps/xxHash -DWITH_CUBIN -DWITH_HWMON src/modules/module_16400.c obj/combined.NATIVE.a -o modules/module_16400.so  -s -lpthread -ldl -lrt -lm -shared -fPIC -D MODULE_INTERFACE_VERSION_CURRENT=520\n",
            "install -m 755 -d                                                    /usr/local/share\n",
            "install -m 755 -d                                                    /usr/local/share/doc/hashcat/masks\n",
            "find OpenCL/   -mindepth 1 -type d -execdir install -m 755 -d     /usr/local/share/hashcat/OpenCL/{} \\;\n",
            "install -m 755 -d                                                    /usr/local/share/doc/hashcat/rules\n",
            "find modules/  -mindepth 1 -type d -execdir install -m 755 -d     /usr/local/share/hashcat/modules/{} \\;\n",
            "install -m 755 -d                                                    /usr/local/share/doc/hashcat/extra\n",
            "install -m 755 -d                                                    /usr/local/share/doc/hashcat/extra/tab_completion\n",
            "find OpenCL/   -mindepth 1 -type f -execdir install -m 644 {}     /usr/local/share/hashcat/OpenCL/{} \\;\n",
            "install -m 644 example.dict                                          /usr/local/share/doc/hashcat/\n",
            "find modules/  -mindepth 1 -type f -execdir install -m 644 {}     /usr/local/share/hashcat/modules/{} \\;\n"
          ],
          "name": "stdout"
        }
      ]
    },
    {
      "cell_type": "code",
      "metadata": {
        "id": "BKcdtozLUe1W",
        "colab_type": "code",
        "outputId": "5641cdb3-6ea4-4135-d6d3-6bc547666643",
        "colab": {
          "base_uri": "https://localhost:8080/",
          "height": 34
        }
      },
      "source": [
        "# Check the Hashcat Version to make sure it's installed correctly\n",
        "!hashcat --version"
      ],
      "execution_count": 4,
      "outputs": [
        {
          "output_type": "stream",
          "text": [
            "v5.1.0-1846-gf92df252\n"
          ],
          "name": "stdout"
        }
      ]
    },
    {
      "cell_type": "code",
      "metadata": {
        "id": "UFwpl__HVvJ3",
        "colab_type": "code",
        "outputId": "c34693c8-74a7-4fc1-bb7f-da5bc8d6fcc5",
        "colab": {
          "base_uri": "https://localhost:8080/",
          "height": 493
        }
      },
      "source": [
        "# WPA2 EAPOL Benchmark (change this to check the speed of whichever hash you're cracking)\n",
        "!hashcat -w 4 -m 2500 --benchmark"
      ],
      "execution_count": 5,
      "outputs": [
        {
          "output_type": "stream",
          "text": [
            "hashcat (v5.1.0-1846-gf92df252) starting in benchmark mode...\n",
            "\n",
            "\u001b[33m* Device #1: This hardware has outdated CUDA compute capability (3.7).\u001b[0m\n",
            "\u001b[33m             For modern OpenCL performance, upgrade to hardware that supports\u001b[0m\n",
            "\u001b[33m             CUDA compute capability version 5.0 (Maxwell) or higher.\u001b[0m\n",
            "\u001b[33m* Device #2: This hardware has outdated CUDA compute capability (3.7).\u001b[0m\n",
            "\u001b[33m             For modern OpenCL performance, upgrade to hardware that supports\u001b[0m\n",
            "\u001b[33m             CUDA compute capability version 5.0 (Maxwell) or higher.\u001b[0m\n",
            "\u001b[31mnvmlDeviceGetFanSpeed(): Not Supported\u001b[0m\n",
            "\n",
            "CUDA API (CUDA 10.1)\n",
            "====================\n",
            "* Device #1: Tesla K80, 11373/11441 MB, 13MCU\n",
            "\n",
            "OpenCL API (OpenCL 1.2 CUDA 10.1.152) - Platform #1 [NVIDIA Corporation]\n",
            "========================================================================\n",
            "* Device #2: Tesla K80, skipped\n",
            "\n",
            "Benchmark relevant options:\n",
            "===========================\n",
            "* --workload-profile=4\n",
            "\n",
            "Hashmode: 2500 - WPA-EAPOL-PBKDF2 (Iterations: 4095)\n",
            "\n",
            "Speed.#1.........:    88331 H/s (300.57ms) @ Accel:16 Loops:512 Thr:1024 Vec:1\n",
            "\n",
            "Started: Tue Jun  9 13:15:14 2020\n",
            "Stopped: Tue Jun  9 13:15:36 2020\n"
          ],
          "name": "stdout"
        }
      ]
    },
    {
      "cell_type": "code",
      "metadata": {
        "id": "5fmoX1ku_PsU",
        "colab_type": "code",
        "outputId": "004074f1-a88a-4676-9565-1d6e4fae42c7",
        "colab": {
          "base_uri": "https://localhost:8080/",
          "height": 204
        }
      },
      "source": [
        "# Get wordlists\n",
        "!mkdir /root/wordlists && cd /root/wordlists\n",
        "\n",
        "# Clone the SecLists repository\n",
        "!git clone https://github.com/danielmiessler/SecLists /root/wordlists/SecLists\n",
        "\n",
        "# Append 'hashcat' for demonstration purposes\n",
        "!echo \"hashcat!\" >> /root/wordlists/SecLists/Passwords/Leaked-Databases/rockyou-75.txt\n",
        "\n",
        "!ls /root/wordlists/SecLists"
      ],
      "execution_count": 6,
      "outputs": [
        {
          "output_type": "stream",
          "text": [
            "Cloning into '/root/wordlists/SecLists'...\n",
            "remote: Enumerating objects: 11, done.\u001b[K\n",
            "remote: Counting objects:   9% (1/11)\u001b[K\rremote: Counting objects:  18% (2/11)\u001b[K\rremote: Counting objects:  27% (3/11)\u001b[K\rremote: Counting objects:  36% (4/11)\u001b[K\rremote: Counting objects:  45% (5/11)\u001b[K\rremote: Counting objects:  54% (6/11)\u001b[K\rremote: Counting objects:  63% (7/11)\u001b[K\rremote: Counting objects:  72% (8/11)\u001b[K\rremote: Counting objects:  81% (9/11)\u001b[K\rremote: Counting objects:  90% (10/11)\u001b[K\rremote: Counting objects: 100% (11/11)\u001b[K\rremote: Counting objects: 100% (11/11), done.\u001b[K\n",
            "remote: Compressing objects: 100% (11/11), done.\u001b[K\n",
            "remote: Total 9074 (delta 3), reused 0 (delta 0), pack-reused 9063\u001b[K\n",
            "Receiving objects: 100% (9074/9074), 692.14 MiB | 21.24 MiB/s, done.\n",
            "Resolving deltas: 100% (4673/4673), done.\n",
            "Checking out files: 100% (5303/5303), done.\n",
            "CONTRIBUTING.md  Fuzzing  Miscellaneous     Payloads   Web-Shells\n",
            "CONTRIBUTORS.md  IOCs\t  Passwords\t    README.md\n",
            "Discovery\t LICENSE  Pattern-Matching  Usernames\n"
          ],
          "name": "stdout"
        }
      ]
    },
    {
      "cell_type": "code",
      "metadata": {
        "id": "yIkXZRlEFUIz",
        "colab_type": "code",
        "outputId": "959ca063-ac12-4b98-cfab-f0572bb05e42",
        "colab": {
          "base_uri": "https://localhost:8080/",
          "height": 34
        }
      },
      "source": [
        "# Check that your hashes are accessible to Colab\n",
        "!ls /root/.hashcat/hashes"
      ],
      "execution_count": 7,
      "outputs": [
        {
          "output_type": "stream",
          "text": [
            "test.hccapx\n"
          ],
          "name": "stdout"
        }
      ]
    },
    {
      "cell_type": "code",
      "metadata": {
        "id": "iLqp5xQCXwiq",
        "colab_type": "code",
        "outputId": "ea78bd7b-8804-4711-a868-8370cf190035",
        "colab": {
          "base_uri": "https://localhost:8080/",
          "height": 1000
        }
      },
      "source": [
        "# Start pure brute force cracking with a session name\n",
        "# !hashcat -m 2500 -a3 --session $SESSION /root/.hashcat/hashes/test.hccapx\n  [a3 = mask attack", 
        "# !hashcat -m 2500 /root/.hashcat/hashes/test.hccapx -a 3 -w 4 --session test-session\n",
        "\n",
        "# Restore the session\n",
        "# !hashcat --session $SESSION --restore\n",
        "\n",
        "# Crack with a wordlist\n",
        "!hashcat -m 2500 /root/.hashcat/hashes/test.hccapx /root/wordlists/SecLists/Passwords/Leaked-Databases/rockyou-75.txt"
      ],
      "execution_count": 11,
      "outputs": [
        {
          "output_type": "stream",
          "text": [
            "hashcat (v5.1.0-1846-gf92df252) starting...\n",
            "\n",
            "\u001b[33m* Device #1: This hardware has outdated CUDA compute capability (3.7).\u001b[0m\n",
            "\u001b[33m             For modern OpenCL performance, upgrade to hardware that supports\u001b[0m\n",
            "\u001b[33m             CUDA compute capability version 5.0 (Maxwell) or higher.\u001b[0m\n",
            "\u001b[33m* Device #2: This hardware has outdated CUDA compute capability (3.7).\u001b[0m\n",
            "\u001b[33m             For modern OpenCL performance, upgrade to hardware that supports\u001b[0m\n",
            "\u001b[33m             CUDA compute capability version 5.0 (Maxwell) or higher.\u001b[0m\n",
            "\u001b[31mnvmlDeviceGetFanSpeed(): Not Supported\u001b[0m\n",
            "\n",
            "CUDA API (CUDA 10.1)\n",
            "====================\n",
            "* Device #1: Tesla K80, 11373/11441 MB, 13MCU\n",
            "\n",
            "OpenCL API (OpenCL 1.2 CUDA 10.1.152) - Platform #1 [NVIDIA Corporation]\n",
            "========================================================================\n",
            "* Device #2: Tesla K80, skipped\n",
            "\n",
            "Minimum password length supported by kernel: 8\n",
            "Maximum password length supported by kernel: 63\n",
            "\n",
            "Hashes: 1 digests; 1 unique digests, 1 unique salts\n",
            "Bitmaps: 16 bits, 65536 entries, 0x0000ffff mask, 262144 bytes, 5/13 rotates\n",
            "Rules: 1\n",
            "\n",
            "Applicable optimizers:\n",
            "* Zero-Byte\n",
            "* Single-Hash\n",
            "* Single-Salt\n",
            "* Slow-Hash-SIMD-LOOP\n",
            "\n",
            "Watchdog: Temperature abort trigger set to 90c\n",
            "\n",
            "Host memory required for this attack: 292 MB\n",
            "\n",
            "Dictionary cache built:\n",
            "* Filename..: /root/wordlists/SecLists/Passwords/Leaked-Databases/rockyou-75.txt\n",
            "* Passwords.: 59187\n",
            "* Bytes.....: 478945\n",
            "* Keyspace..: 59187\n",
            "* Runtime...: 0 secs\n",
            "\n",
            "\u001b[33mApproaching final keyspace - workload adjusted.\u001b[0m\n",
            "\u001b[33m\u001b[0m\n",
            "aef50f22801c:987bdcf9f950:8381533406003807685881523:hashcat!\n",
            "                                                 \n",
            "Session..........: hashcat\n",
            "Status...........: Cracked\n",
            "Hash.Name........: WPA-EAPOL-PBKDF2\n",
            "Hash.Target......: 8381533406003807685881523 (AP:ae:f5:0f:22:80:1c STA:98:7b:dc:f9:f9:50)\n",
            "Time.Started.....: Tue Jun  9 13:20:02 2020 (0 secs)\n",
            "Time.Estimated...: Tue Jun  9 13:20:02 2020 (0 secs)\n",
            "Guess.Base.......: File (/root/wordlists/SecLists/Passwords/Leaked-Databases/rockyou-75.txt)\n",
            "Guess.Queue......: 1/1 (100.00%)\n",
            "Speed.#1.........:    88564 H/s (3.27ms) @ Accel:4 Loops:64 Thr:1024 Vec:1\n",
            "Recovered........: 1/1 (100.00%) Digests\n",
            "Progress.........: 59187/59187 (100.00%)\n",
            "Rejected.........: 39223/59187 (66.27%)\n",
            "Restore.Point....: 0/59187 (0.00%)\n",
            "Restore.Sub.#1...: Salt:0 Amplifier:0-1 Iteration:0-1\n",
            "Candidates.#1....: 123456789 -> hashcat!\n",
            "Hardware.Mon.#1..: Temp: 54c Util: 88% Core: 836MHz Mem:2505MHz Bus:16\n",
            "\n",
            "Started: Tue Jun  9 13:19:58 2020\n",
            "Stopped: Tue Jun  9 13:20:04 2020\n"
          ],
          "name": "stdout"
        }
      ]
    }
  ]
}
